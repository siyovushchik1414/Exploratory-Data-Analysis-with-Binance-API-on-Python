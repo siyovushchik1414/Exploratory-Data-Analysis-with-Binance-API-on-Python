{
 "cells": [
  {
   "cell_type": "code",
   "execution_count": 1,
   "id": "f2f1e9e8",
   "metadata": {},
   "outputs": [],
   "source": [
    "APIKey = 'YourAPIKeyFromBinance'\n",
    "SecretKey = 'YourSecretKeyForTheAPIAbove'"
   ]
  },
  {
   "cell_type": "code",
   "execution_count": 2,
   "id": "c81a7ec6",
   "metadata": {
    "collapsed": true
   },
   "outputs": [
    {
     "name": "stdout",
     "output_type": "stream",
     "text": [
      "Requirement already satisfied: python-binance in c:\\users\\siyov\\anaconda3\\envs\\tensorflow\\lib\\site-packages (1.0.16)\n",
      "Requirement already satisfied: pandas in c:\\users\\siyov\\anaconda3\\envs\\tensorflow\\lib\\site-packages (1.4.3)\n",
      "Requirement already satisfied: mplfinance in c:\\users\\siyov\\anaconda3\\envs\\tensorflow\\lib\\site-packages (0.12.9b1)\n",
      "Requirement already satisfied: dateparser in c:\\users\\siyov\\anaconda3\\envs\\tensorflow\\lib\\site-packages (from python-binance) (1.1.1)\n",
      "Requirement already satisfied: ujson in c:\\users\\siyov\\anaconda3\\envs\\tensorflow\\lib\\site-packages (from python-binance) (5.4.0)\n",
      "Requirement already satisfied: requests in c:\\users\\siyov\\anaconda3\\envs\\tensorflow\\lib\\site-packages (from python-binance) (2.28.0)\n",
      "Requirement already satisfied: websockets in c:\\users\\siyov\\anaconda3\\envs\\tensorflow\\lib\\site-packages (from python-binance) (10.3)\n",
      "Requirement already satisfied: aiohttp in c:\\users\\siyov\\anaconda3\\envs\\tensorflow\\lib\\site-packages (from python-binance) (3.8.1)\n",
      "Requirement already satisfied: six in c:\\users\\siyov\\anaconda3\\envs\\tensorflow\\lib\\site-packages (from python-binance) (1.16.0)\n",
      "Requirement already satisfied: numpy>=1.21.0 in c:\\users\\siyov\\anaconda3\\envs\\tensorflow\\lib\\site-packages (from pandas) (1.22.3)\n",
      "Requirement already satisfied: python-dateutil>=2.8.1 in c:\\users\\siyov\\anaconda3\\envs\\tensorflow\\lib\\site-packages (from pandas) (2.8.2)\n",
      "Requirement already satisfied: pytz>=2020.1 in c:\\users\\siyov\\anaconda3\\envs\\tensorflow\\lib\\site-packages (from pandas) (2022.1)\n",
      "Requirement already satisfied: matplotlib in c:\\users\\siyov\\anaconda3\\envs\\tensorflow\\lib\\site-packages (from mplfinance) (3.5.2)\n",
      "Requirement already satisfied: aiosignal>=1.1.2 in c:\\users\\siyov\\anaconda3\\envs\\tensorflow\\lib\\site-packages (from aiohttp->python-binance) (1.2.0)\n",
      "Requirement already satisfied: charset-normalizer<3.0,>=2.0 in c:\\users\\siyov\\anaconda3\\envs\\tensorflow\\lib\\site-packages (from aiohttp->python-binance) (2.0.12)\n",
      "Requirement already satisfied: async-timeout<5.0,>=4.0.0a3 in c:\\users\\siyov\\anaconda3\\envs\\tensorflow\\lib\\site-packages (from aiohttp->python-binance) (4.0.2)\n",
      "Requirement already satisfied: yarl<2.0,>=1.0 in c:\\users\\siyov\\anaconda3\\envs\\tensorflow\\lib\\site-packages (from aiohttp->python-binance) (1.7.2)\n",
      "Requirement already satisfied: attrs>=17.3.0 in c:\\users\\siyov\\anaconda3\\envs\\tensorflow\\lib\\site-packages (from aiohttp->python-binance) (21.4.0)\n",
      "Requirement already satisfied: multidict<7.0,>=4.5 in c:\\users\\siyov\\anaconda3\\envs\\tensorflow\\lib\\site-packages (from aiohttp->python-binance) (6.0.2)\n",
      "Requirement already satisfied: frozenlist>=1.1.1 in c:\\users\\siyov\\anaconda3\\envs\\tensorflow\\lib\\site-packages (from aiohttp->python-binance) (1.3.0)\n",
      "Requirement already satisfied: idna>=2.0 in c:\\users\\siyov\\anaconda3\\envs\\tensorflow\\lib\\site-packages (from yarl<2.0,>=1.0->aiohttp->python-binance) (3.3)\n",
      "Requirement already satisfied: regex!=2019.02.19,!=2021.8.27,<2022.3.15 in c:\\users\\siyov\\anaconda3\\envs\\tensorflow\\lib\\site-packages (from dateparser->python-binance) (2022.3.2)\n",
      "Requirement already satisfied: tzlocal in c:\\users\\siyov\\anaconda3\\envs\\tensorflow\\lib\\site-packages (from dateparser->python-binance) (4.2)\n",
      "Requirement already satisfied: cycler>=0.10 in c:\\users\\siyov\\anaconda3\\envs\\tensorflow\\lib\\site-packages (from matplotlib->mplfinance) (0.11.0)\n",
      "Requirement already satisfied: pyparsing>=2.2.1 in c:\\users\\siyov\\anaconda3\\envs\\tensorflow\\lib\\site-packages (from matplotlib->mplfinance) (3.0.4)\n",
      "Requirement already satisfied: pillow>=6.2.0 in c:\\users\\siyov\\anaconda3\\envs\\tensorflow\\lib\\site-packages (from matplotlib->mplfinance) (9.2.0)\n",
      "Requirement already satisfied: kiwisolver>=1.0.1 in c:\\users\\siyov\\anaconda3\\envs\\tensorflow\\lib\\site-packages (from matplotlib->mplfinance) (1.4.4)\n",
      "Requirement already satisfied: fonttools>=4.22.0 in c:\\users\\siyov\\anaconda3\\envs\\tensorflow\\lib\\site-packages (from matplotlib->mplfinance) (4.34.4)\n",
      "Requirement already satisfied: packaging>=20.0 in c:\\users\\siyov\\anaconda3\\envs\\tensorflow\\lib\\site-packages (from matplotlib->mplfinance) (21.3)\n",
      "Requirement already satisfied: urllib3<1.27,>=1.21.1 in c:\\users\\siyov\\anaconda3\\envs\\tensorflow\\lib\\site-packages (from requests->python-binance) (1.26.9)\n",
      "Requirement already satisfied: certifi>=2017.4.17 in c:\\users\\siyov\\anaconda3\\envs\\tensorflow\\lib\\site-packages (from requests->python-binance) (2022.6.15)\n",
      "Requirement already satisfied: tzdata in c:\\users\\siyov\\anaconda3\\envs\\tensorflow\\lib\\site-packages (from tzlocal->dateparser->python-binance) (2022.1)\n",
      "Requirement already satisfied: pytz-deprecation-shim in c:\\users\\siyov\\anaconda3\\envs\\tensorflow\\lib\\site-packages (from tzlocal->dateparser->python-binance) (0.1.0.post0)\n"
     ]
    }
   ],
   "source": [
    "!pip install python-binance pandas mplfinance"
   ]
  },
  {
   "cell_type": "code",
   "execution_count": 3,
   "id": "759a68a6",
   "metadata": {},
   "outputs": [],
   "source": [
    "from binance import Client, ThreadedWebsocketManager, ThreadedDepthCacheManager\n",
    "import pandas as pd"
   ]
  },
  {
   "cell_type": "code",
   "execution_count": 4,
   "id": "2eabf2ac",
   "metadata": {},
   "outputs": [],
   "source": [
    "#creating the client\n",
    "client = Client(APIKey, SecretKey)"
   ]
  },
  {
   "cell_type": "code",
   "execution_count": 5,
   "id": "75835de0",
   "metadata": {},
   "outputs": [],
   "source": [
    "# get all symbol prices\n",
    "prices = client.get_all_tickers()"
   ]
  },
  {
   "cell_type": "code",
   "execution_count": 6,
   "id": "d814dc93",
   "metadata": {
    "collapsed": true
   },
   "outputs": [
    {
     "name": "stdout",
     "output_type": "stream",
     "text": [
      "{'symbol': 'BTCUSDT', 'price': '23622.82000000'}\n",
      "{'symbol': 'ETHUSDT', 'price': '1551.51000000'}\n"
     ]
    }
   ],
   "source": [
    "#serching for BTC & ETH \n",
    "for i in range(len(prices)):\n",
    "    if(prices[i]['symbol'] == 'BTCUSDT' or prices[i]['symbol'] == 'ETHUSDT'):\n",
    "        print(prices[i]);"
   ]
  },
  {
   "cell_type": "code",
   "execution_count": 7,
   "id": "a8dcbcba",
   "metadata": {},
   "outputs": [],
   "source": [
    "#Or the we can make the following: \n",
    "PricesDataFrame = pd.DataFrame(prices)"
   ]
  },
  {
   "cell_type": "code",
   "execution_count": 8,
   "id": "46f1fca3",
   "metadata": {},
   "outputs": [],
   "source": [
    "PricesDataFrame.set_index('symbol', inplace=True);"
   ]
  },
  {
   "cell_type": "code",
   "execution_count": 9,
   "id": "02c5cb72",
   "metadata": {
    "collapsed": true
   },
   "outputs": [
    {
     "data": {
      "text/plain": [
       "price    1551.51000000\n",
       "Name: ETHUSDT, dtype: object"
      ]
     },
     "execution_count": 9,
     "metadata": {},
     "output_type": "execute_result"
    }
   ],
   "source": [
    "PricesDataFrame.loc['ETHUSDT']"
   ]
  },
  {
   "cell_type": "code",
   "execution_count": 10,
   "id": "3e15269c",
   "metadata": {},
   "outputs": [],
   "source": [
    "# get market depth\n",
    "depth = client.get_order_book(symbol='ETHUSDT')"
   ]
  },
  {
   "cell_type": "code",
   "execution_count": 11,
   "id": "ef2cadcb",
   "metadata": {
    "collapsed": true
   },
   "outputs": [
    {
     "data": {
      "text/html": [
       "<div>\n",
       "<style scoped>\n",
       "    .dataframe tbody tr th:only-of-type {\n",
       "        vertical-align: middle;\n",
       "    }\n",
       "\n",
       "    .dataframe tbody tr th {\n",
       "        vertical-align: top;\n",
       "    }\n",
       "\n",
       "    .dataframe thead th {\n",
       "        text-align: right;\n",
       "    }\n",
       "</style>\n",
       "<table border=\"1\" class=\"dataframe\">\n",
       "  <thead>\n",
       "    <tr style=\"text-align: right;\">\n",
       "      <th></th>\n",
       "      <th>price</th>\n",
       "    </tr>\n",
       "    <tr>\n",
       "      <th>symbol</th>\n",
       "      <th></th>\n",
       "    </tr>\n",
       "  </thead>\n",
       "  <tbody>\n",
       "    <tr>\n",
       "      <th>ETHBTC</th>\n",
       "      <td>0.06566600</td>\n",
       "    </tr>\n",
       "    <tr>\n",
       "      <th>LTCBTC</th>\n",
       "      <td>0.00250300</td>\n",
       "    </tr>\n",
       "    <tr>\n",
       "      <th>BNBBTC</th>\n",
       "      <td>0.01118100</td>\n",
       "    </tr>\n",
       "    <tr>\n",
       "      <th>NEOBTC</th>\n",
       "      <td>0.00042700</td>\n",
       "    </tr>\n",
       "    <tr>\n",
       "      <th>QTUMETH</th>\n",
       "      <td>0.00204300</td>\n",
       "    </tr>\n",
       "  </tbody>\n",
       "</table>\n",
       "</div>"
      ],
      "text/plain": [
       "              price\n",
       "symbol             \n",
       "ETHBTC   0.06566600\n",
       "LTCBTC   0.00250300\n",
       "BNBBTC   0.01118100\n",
       "NEOBTC   0.00042700\n",
       "QTUMETH  0.00204300"
      ]
     },
     "execution_count": 11,
     "metadata": {},
     "output_type": "execute_result"
    }
   ],
   "source": [
    "#5 first strokes of information given by the API\n",
    "PricesDataFrame.head()\n",
    "# or the last 5 ones\n",
    "#PricesDataFrame.tail()"
   ]
  },
  {
   "cell_type": "code",
   "execution_count": 12,
   "id": "8b860452",
   "metadata": {
    "collapsed": true
   },
   "outputs": [
    {
     "data": {
      "text/html": [
       "<div>\n",
       "<style scoped>\n",
       "    .dataframe tbody tr th:only-of-type {\n",
       "        vertical-align: middle;\n",
       "    }\n",
       "\n",
       "    .dataframe tbody tr th {\n",
       "        vertical-align: top;\n",
       "    }\n",
       "\n",
       "    .dataframe thead th {\n",
       "        text-align: right;\n",
       "    }\n",
       "</style>\n",
       "<table border=\"1\" class=\"dataframe\">\n",
       "  <thead>\n",
       "    <tr style=\"text-align: right;\">\n",
       "      <th></th>\n",
       "      <th>Price</th>\n",
       "      <th>Volume</th>\n",
       "    </tr>\n",
       "  </thead>\n",
       "  <tbody>\n",
       "    <tr>\n",
       "      <th>0</th>\n",
       "      <td>1551.25000000</td>\n",
       "      <td>0.10120000</td>\n",
       "    </tr>\n",
       "    <tr>\n",
       "      <th>1</th>\n",
       "      <td>1551.24000000</td>\n",
       "      <td>1.39130000</td>\n",
       "    </tr>\n",
       "    <tr>\n",
       "      <th>2</th>\n",
       "      <td>1551.23000000</td>\n",
       "      <td>0.16120000</td>\n",
       "    </tr>\n",
       "    <tr>\n",
       "      <th>3</th>\n",
       "      <td>1551.13000000</td>\n",
       "      <td>0.19340000</td>\n",
       "    </tr>\n",
       "    <tr>\n",
       "      <th>4</th>\n",
       "      <td>1551.08000000</td>\n",
       "      <td>0.20170000</td>\n",
       "    </tr>\n",
       "  </tbody>\n",
       "</table>\n",
       "</div>"
      ],
      "text/plain": [
       "           Price      Volume\n",
       "0  1551.25000000  0.10120000\n",
       "1  1551.24000000  1.39130000\n",
       "2  1551.23000000  0.16120000\n",
       "3  1551.13000000  0.19340000\n",
       "4  1551.08000000  0.20170000"
      ]
     },
     "execution_count": 12,
     "metadata": {},
     "output_type": "execute_result"
    }
   ],
   "source": [
    "#Putting the depth inside the dataframe\n",
    "DepthDataFrame = pd.DataFrame(depth['bids'])\n",
    "DepthDataFrame.columns = ['Price', 'Volume']\n",
    "DepthDataFrame.head() "
   ]
  },
  {
   "cell_type": "code",
   "execution_count": 13,
   "id": "2ba4e9f7",
   "metadata": {
    "collapsed": true
   },
   "outputs": [
    {
     "data": {
      "text/plain": [
       "Price     object\n",
       "Volume    object\n",
       "dtype: object"
      ]
     },
     "execution_count": 13,
     "metadata": {},
     "output_type": "execute_result"
    }
   ],
   "source": [
    "DepthDataFrame.dtypes"
   ]
  },
  {
   "cell_type": "code",
   "execution_count": 101,
   "id": "c8638442",
   "metadata": {},
   "outputs": [],
   "source": [
    "#getting a historcal data\n",
    "klines = client.get_historical_klines(\"ETHUSDT\", Client.KLINE_INTERVAL_1DAY, \"1 Jan, 2022\")"
   ]
  },
  {
   "cell_type": "code",
   "execution_count": 102,
   "id": "c7a0dabb",
   "metadata": {},
   "outputs": [],
   "source": [
    "# client.get_historical_klines??"
   ]
  },
  {
   "cell_type": "code",
   "execution_count": 103,
   "id": "70eb5e04",
   "metadata": {},
   "outputs": [],
   "source": [
    "KlinesDataFrame = pd.DataFrame(klines)"
   ]
  },
  {
   "cell_type": "code",
   "execution_count": 104,
   "id": "742ce85b",
   "metadata": {
    "collapsed": true
   },
   "outputs": [
    {
     "data": {
      "text/html": [
       "<div>\n",
       "<style scoped>\n",
       "    .dataframe tbody tr th:only-of-type {\n",
       "        vertical-align: middle;\n",
       "    }\n",
       "\n",
       "    .dataframe tbody tr th {\n",
       "        vertical-align: top;\n",
       "    }\n",
       "\n",
       "    .dataframe thead th {\n",
       "        text-align: right;\n",
       "    }\n",
       "</style>\n",
       "<table border=\"1\" class=\"dataframe\">\n",
       "  <thead>\n",
       "    <tr style=\"text-align: right;\">\n",
       "      <th></th>\n",
       "      <th>0</th>\n",
       "      <th>1</th>\n",
       "      <th>2</th>\n",
       "      <th>3</th>\n",
       "      <th>4</th>\n",
       "      <th>5</th>\n",
       "      <th>6</th>\n",
       "      <th>7</th>\n",
       "      <th>8</th>\n",
       "      <th>9</th>\n",
       "      <th>10</th>\n",
       "      <th>11</th>\n",
       "    </tr>\n",
       "  </thead>\n",
       "  <tbody>\n",
       "    <tr>\n",
       "      <th>0</th>\n",
       "      <td>1640995200000</td>\n",
       "      <td>3676.22000000</td>\n",
       "      <td>3776.45000000</td>\n",
       "      <td>3673.46000000</td>\n",
       "      <td>3765.54000000</td>\n",
       "      <td>154143.89680000</td>\n",
       "      <td>1641081599999</td>\n",
       "      <td>574718328.45274400</td>\n",
       "      <td>408666</td>\n",
       "      <td>76937.97980000</td>\n",
       "      <td>286855413.58892400</td>\n",
       "      <td>0</td>\n",
       "    </tr>\n",
       "    <tr>\n",
       "      <th>1</th>\n",
       "      <td>1641081600000</td>\n",
       "      <td>3765.54000000</td>\n",
       "      <td>3857.44000000</td>\n",
       "      <td>3717.30000000</td>\n",
       "      <td>3828.27000000</td>\n",
       "      <td>154791.42630000</td>\n",
       "      <td>1641167999999</td>\n",
       "      <td>585374957.73046000</td>\n",
       "      <td>450610</td>\n",
       "      <td>81170.50530000</td>\n",
       "      <td>307056603.74279000</td>\n",
       "      <td>0</td>\n",
       "    </tr>\n",
       "    <tr>\n",
       "      <th>2</th>\n",
       "      <td>1641168000000</td>\n",
       "      <td>3828.11000000</td>\n",
       "      <td>3853.09000000</td>\n",
       "      <td>3680.00000000</td>\n",
       "      <td>3765.89000000</td>\n",
       "      <td>236245.85860000</td>\n",
       "      <td>1641254399999</td>\n",
       "      <td>892944105.55299400</td>\n",
       "      <td>594541</td>\n",
       "      <td>114525.62990000</td>\n",
       "      <td>433084435.77665600</td>\n",
       "      <td>0</td>\n",
       "    </tr>\n",
       "    <tr>\n",
       "      <th>3</th>\n",
       "      <td>1641254400000</td>\n",
       "      <td>3765.89000000</td>\n",
       "      <td>3900.73000000</td>\n",
       "      <td>3713.11000000</td>\n",
       "      <td>3785.11000000</td>\n",
       "      <td>288258.55490000</td>\n",
       "      <td>1641340799999</td>\n",
       "      <td>1098182607.92572600</td>\n",
       "      <td>676651</td>\n",
       "      <td>147451.42850000</td>\n",
       "      <td>561958201.76209900</td>\n",
       "      <td>0</td>\n",
       "    </tr>\n",
       "    <tr>\n",
       "      <th>4</th>\n",
       "      <td>1641340800000</td>\n",
       "      <td>3785.10000000</td>\n",
       "      <td>3848.00000000</td>\n",
       "      <td>3415.00000000</td>\n",
       "      <td>3540.63000000</td>\n",
       "      <td>397942.03630000</td>\n",
       "      <td>1641427199999</td>\n",
       "      <td>1464819255.09351100</td>\n",
       "      <td>962670</td>\n",
       "      <td>183641.11340000</td>\n",
       "      <td>676663293.71856000</td>\n",
       "      <td>0</td>\n",
       "    </tr>\n",
       "  </tbody>\n",
       "</table>\n",
       "</div>"
      ],
      "text/plain": [
       "              0              1              2              3              4   \\\n",
       "0  1640995200000  3676.22000000  3776.45000000  3673.46000000  3765.54000000   \n",
       "1  1641081600000  3765.54000000  3857.44000000  3717.30000000  3828.27000000   \n",
       "2  1641168000000  3828.11000000  3853.09000000  3680.00000000  3765.89000000   \n",
       "3  1641254400000  3765.89000000  3900.73000000  3713.11000000  3785.11000000   \n",
       "4  1641340800000  3785.10000000  3848.00000000  3415.00000000  3540.63000000   \n",
       "\n",
       "                5              6                    7       8   \\\n",
       "0  154143.89680000  1641081599999   574718328.45274400  408666   \n",
       "1  154791.42630000  1641167999999   585374957.73046000  450610   \n",
       "2  236245.85860000  1641254399999   892944105.55299400  594541   \n",
       "3  288258.55490000  1641340799999  1098182607.92572600  676651   \n",
       "4  397942.03630000  1641427199999  1464819255.09351100  962670   \n",
       "\n",
       "                9                   10 11  \n",
       "0   76937.97980000  286855413.58892400  0  \n",
       "1   81170.50530000  307056603.74279000  0  \n",
       "2  114525.62990000  433084435.77665600  0  \n",
       "3  147451.42850000  561958201.76209900  0  \n",
       "4  183641.11340000  676663293.71856000  0  "
      ]
     },
     "execution_count": 104,
     "metadata": {},
     "output_type": "execute_result"
    }
   ],
   "source": [
    "KlinesDataFrame.head()"
   ]
  },
  {
   "cell_type": "code",
   "execution_count": 105,
   "id": "60ebae8f",
   "metadata": {},
   "outputs": [],
   "source": [
    "#short characteristics of the following chart for understanding:\n",
    "\n",
    "# [\n",
    "#     [\n",
    "#         1499040000000,      # Open time\n",
    "#         \"0.01634790\",       # Open\n",
    "#         \"0.80000000\",       # High\n",
    "#         \"0.01575800\",       # Low\n",
    "#         \"0.01577100\",       # Close\n",
    "#         \"148976.11427815\",  # Volume\n",
    "#         1499644799999,      # Close time\n",
    "#         \"2434.19055334\",    # Quote asset volume\n",
    "#         308,                # Number of trades\n",
    "#         \"1756.87402397\",    # Taker buy base asset volume\n",
    "#         \"28.46694368\",      # Taker buy quote asset volume\n",
    "#         \"17928899.62484339\" # Can be ignored\n",
    "#     ]\n",
    "# ]\n",
    "\n",
    "KlinesDataFrame.columns = ['Open time', 'Open', 'High', 'Low', 'Close', 'Volume', 'Close time', 'Quote asset volume',\n",
    "                           'Number of trades', 'Taker buy base asset volume', 'Taker buy quote asset volume',\n",
    "                           'Can be ignored']"
   ]
  },
  {
   "cell_type": "code",
   "execution_count": 106,
   "id": "2dcf3fbb",
   "metadata": {
    "collapsed": true
   },
   "outputs": [
    {
     "data": {
      "text/html": [
       "<div>\n",
       "<style scoped>\n",
       "    .dataframe tbody tr th:only-of-type {\n",
       "        vertical-align: middle;\n",
       "    }\n",
       "\n",
       "    .dataframe tbody tr th {\n",
       "        vertical-align: top;\n",
       "    }\n",
       "\n",
       "    .dataframe thead th {\n",
       "        text-align: right;\n",
       "    }\n",
       "</style>\n",
       "<table border=\"1\" class=\"dataframe\">\n",
       "  <thead>\n",
       "    <tr style=\"text-align: right;\">\n",
       "      <th></th>\n",
       "      <th>Open time</th>\n",
       "      <th>Open</th>\n",
       "      <th>High</th>\n",
       "      <th>Low</th>\n",
       "      <th>Close</th>\n",
       "      <th>Volume</th>\n",
       "      <th>Close time</th>\n",
       "      <th>Quote asset volume</th>\n",
       "      <th>Number of trades</th>\n",
       "      <th>Taker buy base asset volume</th>\n",
       "      <th>Taker buy quote asset volume</th>\n",
       "      <th>Can be ignored</th>\n",
       "    </tr>\n",
       "  </thead>\n",
       "  <tbody>\n",
       "    <tr>\n",
       "      <th>0</th>\n",
       "      <td>1640995200000</td>\n",
       "      <td>3676.22000000</td>\n",
       "      <td>3776.45000000</td>\n",
       "      <td>3673.46000000</td>\n",
       "      <td>3765.54000000</td>\n",
       "      <td>154143.89680000</td>\n",
       "      <td>1641081599999</td>\n",
       "      <td>574718328.45274400</td>\n",
       "      <td>408666</td>\n",
       "      <td>76937.97980000</td>\n",
       "      <td>286855413.58892400</td>\n",
       "      <td>0</td>\n",
       "    </tr>\n",
       "    <tr>\n",
       "      <th>1</th>\n",
       "      <td>1641081600000</td>\n",
       "      <td>3765.54000000</td>\n",
       "      <td>3857.44000000</td>\n",
       "      <td>3717.30000000</td>\n",
       "      <td>3828.27000000</td>\n",
       "      <td>154791.42630000</td>\n",
       "      <td>1641167999999</td>\n",
       "      <td>585374957.73046000</td>\n",
       "      <td>450610</td>\n",
       "      <td>81170.50530000</td>\n",
       "      <td>307056603.74279000</td>\n",
       "      <td>0</td>\n",
       "    </tr>\n",
       "    <tr>\n",
       "      <th>2</th>\n",
       "      <td>1641168000000</td>\n",
       "      <td>3828.11000000</td>\n",
       "      <td>3853.09000000</td>\n",
       "      <td>3680.00000000</td>\n",
       "      <td>3765.89000000</td>\n",
       "      <td>236245.85860000</td>\n",
       "      <td>1641254399999</td>\n",
       "      <td>892944105.55299400</td>\n",
       "      <td>594541</td>\n",
       "      <td>114525.62990000</td>\n",
       "      <td>433084435.77665600</td>\n",
       "      <td>0</td>\n",
       "    </tr>\n",
       "    <tr>\n",
       "      <th>3</th>\n",
       "      <td>1641254400000</td>\n",
       "      <td>3765.89000000</td>\n",
       "      <td>3900.73000000</td>\n",
       "      <td>3713.11000000</td>\n",
       "      <td>3785.11000000</td>\n",
       "      <td>288258.55490000</td>\n",
       "      <td>1641340799999</td>\n",
       "      <td>1098182607.92572600</td>\n",
       "      <td>676651</td>\n",
       "      <td>147451.42850000</td>\n",
       "      <td>561958201.76209900</td>\n",
       "      <td>0</td>\n",
       "    </tr>\n",
       "    <tr>\n",
       "      <th>4</th>\n",
       "      <td>1641340800000</td>\n",
       "      <td>3785.10000000</td>\n",
       "      <td>3848.00000000</td>\n",
       "      <td>3415.00000000</td>\n",
       "      <td>3540.63000000</td>\n",
       "      <td>397942.03630000</td>\n",
       "      <td>1641427199999</td>\n",
       "      <td>1464819255.09351100</td>\n",
       "      <td>962670</td>\n",
       "      <td>183641.11340000</td>\n",
       "      <td>676663293.71856000</td>\n",
       "      <td>0</td>\n",
       "    </tr>\n",
       "  </tbody>\n",
       "</table>\n",
       "</div>"
      ],
      "text/plain": [
       "       Open time           Open           High            Low          Close  \\\n",
       "0  1640995200000  3676.22000000  3776.45000000  3673.46000000  3765.54000000   \n",
       "1  1641081600000  3765.54000000  3857.44000000  3717.30000000  3828.27000000   \n",
       "2  1641168000000  3828.11000000  3853.09000000  3680.00000000  3765.89000000   \n",
       "3  1641254400000  3765.89000000  3900.73000000  3713.11000000  3785.11000000   \n",
       "4  1641340800000  3785.10000000  3848.00000000  3415.00000000  3540.63000000   \n",
       "\n",
       "            Volume     Close time   Quote asset volume  Number of trades  \\\n",
       "0  154143.89680000  1641081599999   574718328.45274400            408666   \n",
       "1  154791.42630000  1641167999999   585374957.73046000            450610   \n",
       "2  236245.85860000  1641254399999   892944105.55299400            594541   \n",
       "3  288258.55490000  1641340799999  1098182607.92572600            676651   \n",
       "4  397942.03630000  1641427199999  1464819255.09351100            962670   \n",
       "\n",
       "  Taker buy base asset volume Taker buy quote asset volume Can be ignored  \n",
       "0              76937.97980000           286855413.58892400              0  \n",
       "1              81170.50530000           307056603.74279000              0  \n",
       "2             114525.62990000           433084435.77665600              0  \n",
       "3             147451.42850000           561958201.76209900              0  \n",
       "4             183641.11340000           676663293.71856000              0  "
      ]
     },
     "execution_count": 106,
     "metadata": {},
     "output_type": "execute_result"
    }
   ],
   "source": [
    "KlinesDataFrame.head()"
   ]
  },
  {
   "cell_type": "code",
   "execution_count": 107,
   "id": "db9d9b6a",
   "metadata": {},
   "outputs": [
    {
     "data": {
      "text/plain": [
       "(201, 12)"
      ]
     },
     "execution_count": 107,
     "metadata": {},
     "output_type": "execute_result"
    }
   ],
   "source": [
    "KlinesDataFrame.shape"
   ]
  },
  {
   "cell_type": "code",
   "execution_count": 108,
   "id": "e2026ea2",
   "metadata": {
    "collapsed": true
   },
   "outputs": [
    {
     "data": {
      "text/plain": [
       "Open time                        int64\n",
       "Open                            object\n",
       "High                            object\n",
       "Low                             object\n",
       "Close                           object\n",
       "Volume                          object\n",
       "Close time                       int64\n",
       "Quote asset volume              object\n",
       "Number of trades                 int64\n",
       "Taker buy base asset volume     object\n",
       "Taker buy quote asset volume    object\n",
       "Can be ignored                  object\n",
       "dtype: object"
      ]
     },
     "execution_count": 108,
     "metadata": {},
     "output_type": "execute_result"
    }
   ],
   "source": [
    "KlinesDataFrame.dtypes"
   ]
  },
  {
   "cell_type": "code",
   "execution_count": 109,
   "id": "c899bef0",
   "metadata": {},
   "outputs": [],
   "source": [
    "KlinesDataFrame['Open time'] = pd.to_datetime(KlinesDataFrame['Open time']/1000, unit = 's')\n",
    "KlinesDataFrame['Close time'] = pd.to_datetime(KlinesDataFrame['Close time']/1000, unit = 's')"
   ]
  },
  {
   "cell_type": "code",
   "execution_count": 110,
   "id": "90f9cbd2",
   "metadata": {},
   "outputs": [],
   "source": [
    "numeric_columns = ['Open', 'High', 'Low', 'Close', 'Volume', 'Quote asset volume', 'Taker buy base asset volume', 'Taker buy quote asset volume']"
   ]
  },
  {
   "cell_type": "code",
   "execution_count": 111,
   "id": "85063989",
   "metadata": {},
   "outputs": [],
   "source": [
    "KlinesDataFrame[numeric_columns] = KlinesDataFrame[numeric_columns].apply(pd.to_numeric, axis=1)"
   ]
  },
  {
   "cell_type": "code",
   "execution_count": 112,
   "id": "d3bd5ab8",
   "metadata": {
    "collapsed": true
   },
   "outputs": [
    {
     "data": {
      "text/html": [
       "<div>\n",
       "<style scoped>\n",
       "    .dataframe tbody tr th:only-of-type {\n",
       "        vertical-align: middle;\n",
       "    }\n",
       "\n",
       "    .dataframe tbody tr th {\n",
       "        vertical-align: top;\n",
       "    }\n",
       "\n",
       "    .dataframe thead th {\n",
       "        text-align: right;\n",
       "    }\n",
       "</style>\n",
       "<table border=\"1\" class=\"dataframe\">\n",
       "  <thead>\n",
       "    <tr style=\"text-align: right;\">\n",
       "      <th></th>\n",
       "      <th>Open time</th>\n",
       "      <th>Open</th>\n",
       "      <th>High</th>\n",
       "      <th>Low</th>\n",
       "      <th>Close</th>\n",
       "      <th>Volume</th>\n",
       "      <th>Close time</th>\n",
       "      <th>Quote asset volume</th>\n",
       "      <th>Number of trades</th>\n",
       "      <th>Taker buy base asset volume</th>\n",
       "      <th>Taker buy quote asset volume</th>\n",
       "      <th>Can be ignored</th>\n",
       "    </tr>\n",
       "  </thead>\n",
       "  <tbody>\n",
       "    <tr>\n",
       "      <th>0</th>\n",
       "      <td>2022-01-01</td>\n",
       "      <td>3676.22</td>\n",
       "      <td>3776.45</td>\n",
       "      <td>3673.46</td>\n",
       "      <td>3765.54</td>\n",
       "      <td>154143.8968</td>\n",
       "      <td>2022-01-01 23:59:59.999000064</td>\n",
       "      <td>5.747183e+08</td>\n",
       "      <td>408666</td>\n",
       "      <td>76937.9798</td>\n",
       "      <td>2.868554e+08</td>\n",
       "      <td>0</td>\n",
       "    </tr>\n",
       "    <tr>\n",
       "      <th>1</th>\n",
       "      <td>2022-01-02</td>\n",
       "      <td>3765.54</td>\n",
       "      <td>3857.44</td>\n",
       "      <td>3717.30</td>\n",
       "      <td>3828.27</td>\n",
       "      <td>154791.4263</td>\n",
       "      <td>2022-01-02 23:59:59.999000064</td>\n",
       "      <td>5.853750e+08</td>\n",
       "      <td>450610</td>\n",
       "      <td>81170.5053</td>\n",
       "      <td>3.070566e+08</td>\n",
       "      <td>0</td>\n",
       "    </tr>\n",
       "    <tr>\n",
       "      <th>2</th>\n",
       "      <td>2022-01-03</td>\n",
       "      <td>3828.11</td>\n",
       "      <td>3853.09</td>\n",
       "      <td>3680.00</td>\n",
       "      <td>3765.89</td>\n",
       "      <td>236245.8586</td>\n",
       "      <td>2022-01-03 23:59:59.999000064</td>\n",
       "      <td>8.929441e+08</td>\n",
       "      <td>594541</td>\n",
       "      <td>114525.6299</td>\n",
       "      <td>4.330844e+08</td>\n",
       "      <td>0</td>\n",
       "    </tr>\n",
       "    <tr>\n",
       "      <th>3</th>\n",
       "      <td>2022-01-04</td>\n",
       "      <td>3765.89</td>\n",
       "      <td>3900.73</td>\n",
       "      <td>3713.11</td>\n",
       "      <td>3785.11</td>\n",
       "      <td>288258.5549</td>\n",
       "      <td>2022-01-04 23:59:59.999000064</td>\n",
       "      <td>1.098183e+09</td>\n",
       "      <td>676651</td>\n",
       "      <td>147451.4285</td>\n",
       "      <td>5.619582e+08</td>\n",
       "      <td>0</td>\n",
       "    </tr>\n",
       "    <tr>\n",
       "      <th>4</th>\n",
       "      <td>2022-01-05</td>\n",
       "      <td>3785.10</td>\n",
       "      <td>3848.00</td>\n",
       "      <td>3415.00</td>\n",
       "      <td>3540.63</td>\n",
       "      <td>397942.0363</td>\n",
       "      <td>2022-01-05 23:59:59.999000064</td>\n",
       "      <td>1.464819e+09</td>\n",
       "      <td>962670</td>\n",
       "      <td>183641.1134</td>\n",
       "      <td>6.766633e+08</td>\n",
       "      <td>0</td>\n",
       "    </tr>\n",
       "  </tbody>\n",
       "</table>\n",
       "</div>"
      ],
      "text/plain": [
       "   Open time     Open     High      Low    Close       Volume  \\\n",
       "0 2022-01-01  3676.22  3776.45  3673.46  3765.54  154143.8968   \n",
       "1 2022-01-02  3765.54  3857.44  3717.30  3828.27  154791.4263   \n",
       "2 2022-01-03  3828.11  3853.09  3680.00  3765.89  236245.8586   \n",
       "3 2022-01-04  3765.89  3900.73  3713.11  3785.11  288258.5549   \n",
       "4 2022-01-05  3785.10  3848.00  3415.00  3540.63  397942.0363   \n",
       "\n",
       "                     Close time  Quote asset volume  Number of trades  \\\n",
       "0 2022-01-01 23:59:59.999000064        5.747183e+08            408666   \n",
       "1 2022-01-02 23:59:59.999000064        5.853750e+08            450610   \n",
       "2 2022-01-03 23:59:59.999000064        8.929441e+08            594541   \n",
       "3 2022-01-04 23:59:59.999000064        1.098183e+09            676651   \n",
       "4 2022-01-05 23:59:59.999000064        1.464819e+09            962670   \n",
       "\n",
       "   Taker buy base asset volume  Taker buy quote asset volume Can be ignored  \n",
       "0                   76937.9798                  2.868554e+08              0  \n",
       "1                   81170.5053                  3.070566e+08              0  \n",
       "2                  114525.6299                  4.330844e+08              0  \n",
       "3                  147451.4285                  5.619582e+08              0  \n",
       "4                  183641.1134                  6.766633e+08              0  "
      ]
     },
     "execution_count": 112,
     "metadata": {},
     "output_type": "execute_result"
    }
   ],
   "source": [
    "KlinesDataFrame.head()"
   ]
  },
  {
   "cell_type": "code",
   "execution_count": 113,
   "id": "e17b538e",
   "metadata": {
    "collapsed": true
   },
   "outputs": [
    {
     "data": {
      "text/plain": [
       "Open time                       datetime64[ns]\n",
       "Open                                   float64\n",
       "High                                   float64\n",
       "Low                                    float64\n",
       "Close                                  float64\n",
       "Volume                                 float64\n",
       "Close time                      datetime64[ns]\n",
       "Quote asset volume                     float64\n",
       "Number of trades                         int64\n",
       "Taker buy base asset volume            float64\n",
       "Taker buy quote asset volume           float64\n",
       "Can be ignored                          object\n",
       "dtype: object"
      ]
     },
     "execution_count": 113,
     "metadata": {},
     "output_type": "execute_result"
    }
   ],
   "source": [
    "KlinesDataFrame.dtypes"
   ]
  },
  {
   "cell_type": "code",
   "execution_count": 114,
   "id": "ab0b8c34",
   "metadata": {},
   "outputs": [
    {
     "data": {
      "text/html": [
       "<div>\n",
       "<style scoped>\n",
       "    .dataframe tbody tr th:only-of-type {\n",
       "        vertical-align: middle;\n",
       "    }\n",
       "\n",
       "    .dataframe tbody tr th {\n",
       "        vertical-align: top;\n",
       "    }\n",
       "\n",
       "    .dataframe thead th {\n",
       "        text-align: right;\n",
       "    }\n",
       "</style>\n",
       "<table border=\"1\" class=\"dataframe\">\n",
       "  <thead>\n",
       "    <tr style=\"text-align: right;\">\n",
       "      <th></th>\n",
       "      <th>Open</th>\n",
       "      <th>High</th>\n",
       "      <th>Low</th>\n",
       "      <th>Close</th>\n",
       "      <th>Volume</th>\n",
       "      <th>Quote asset volume</th>\n",
       "      <th>Number of trades</th>\n",
       "      <th>Taker buy base asset volume</th>\n",
       "      <th>Taker buy quote asset volume</th>\n",
       "    </tr>\n",
       "  </thead>\n",
       "  <tbody>\n",
       "    <tr>\n",
       "      <th>count</th>\n",
       "      <td>201.000000</td>\n",
       "      <td>201.000000</td>\n",
       "      <td>201.000000</td>\n",
       "      <td>201.000000</td>\n",
       "      <td>2.010000e+02</td>\n",
       "      <td>2.010000e+02</td>\n",
       "      <td>2.010000e+02</td>\n",
       "      <td>2.010000e+02</td>\n",
       "      <td>2.010000e+02</td>\n",
       "    </tr>\n",
       "    <tr>\n",
       "      <th>mean</th>\n",
       "      <td>2452.045124</td>\n",
       "      <td>2525.275373</td>\n",
       "      <td>2361.851343</td>\n",
       "      <td>2441.500149</td>\n",
       "      <td>7.283796e+05</td>\n",
       "      <td>1.488237e+09</td>\n",
       "      <td>9.099961e+05</td>\n",
       "      <td>3.637405e+05</td>\n",
       "      <td>7.436785e+08</td>\n",
       "    </tr>\n",
       "    <tr>\n",
       "      <th>std</th>\n",
       "      <td>772.594604</td>\n",
       "      <td>782.789907</td>\n",
       "      <td>760.199782</td>\n",
       "      <td>770.286728</td>\n",
       "      <td>5.388797e+05</td>\n",
       "      <td>6.937436e+08</td>\n",
       "      <td>4.572652e+05</td>\n",
       "      <td>2.683105e+05</td>\n",
       "      <td>3.452241e+08</td>\n",
       "    </tr>\n",
       "    <tr>\n",
       "      <th>min</th>\n",
       "      <td>995.120000</td>\n",
       "      <td>1078.880000</td>\n",
       "      <td>881.560000</td>\n",
       "      <td>995.130000</td>\n",
       "      <td>1.541439e+05</td>\n",
       "      <td>4.707147e+08</td>\n",
       "      <td>2.980000e+05</td>\n",
       "      <td>7.693798e+04</td>\n",
       "      <td>2.332485e+08</td>\n",
       "    </tr>\n",
       "    <tr>\n",
       "      <th>25%</th>\n",
       "      <td>1817.960000</td>\n",
       "      <td>1874.980000</td>\n",
       "      <td>1773.050000</td>\n",
       "      <td>1813.640000</td>\n",
       "      <td>3.863849e+05</td>\n",
       "      <td>1.067796e+09</td>\n",
       "      <td>6.254310e+05</td>\n",
       "      <td>1.939293e+05</td>\n",
       "      <td>5.359672e+08</td>\n",
       "    </tr>\n",
       "    <tr>\n",
       "      <th>50%</th>\n",
       "      <td>2665.160000</td>\n",
       "      <td>2759.510000</td>\n",
       "      <td>2571.720000</td>\n",
       "      <td>2636.290000</td>\n",
       "      <td>5.353110e+05</td>\n",
       "      <td>1.401317e+09</td>\n",
       "      <td>8.092540e+05</td>\n",
       "      <td>2.698341e+05</td>\n",
       "      <td>6.916970e+08</td>\n",
       "    </tr>\n",
       "    <tr>\n",
       "      <th>75%</th>\n",
       "      <td>3040.570000</td>\n",
       "      <td>3129.110000</td>\n",
       "      <td>2950.210000</td>\n",
       "      <td>3036.000000</td>\n",
       "      <td>8.687342e+05</td>\n",
       "      <td>1.736496e+09</td>\n",
       "      <td>1.050193e+06</td>\n",
       "      <td>4.378863e+05</td>\n",
       "      <td>8.656880e+08</td>\n",
       "    </tr>\n",
       "    <tr>\n",
       "      <th>max</th>\n",
       "      <td>3828.110000</td>\n",
       "      <td>3900.730000</td>\n",
       "      <td>3717.300000</td>\n",
       "      <td>3828.270000</td>\n",
       "      <td>3.626352e+06</td>\n",
       "      <td>4.611744e+09</td>\n",
       "      <td>3.047112e+06</td>\n",
       "      <td>1.791798e+06</td>\n",
       "      <td>2.287434e+09</td>\n",
       "    </tr>\n",
       "  </tbody>\n",
       "</table>\n",
       "</div>"
      ],
      "text/plain": [
       "              Open         High          Low        Close        Volume  \\\n",
       "count   201.000000   201.000000   201.000000   201.000000  2.010000e+02   \n",
       "mean   2452.045124  2525.275373  2361.851343  2441.500149  7.283796e+05   \n",
       "std     772.594604   782.789907   760.199782   770.286728  5.388797e+05   \n",
       "min     995.120000  1078.880000   881.560000   995.130000  1.541439e+05   \n",
       "25%    1817.960000  1874.980000  1773.050000  1813.640000  3.863849e+05   \n",
       "50%    2665.160000  2759.510000  2571.720000  2636.290000  5.353110e+05   \n",
       "75%    3040.570000  3129.110000  2950.210000  3036.000000  8.687342e+05   \n",
       "max    3828.110000  3900.730000  3717.300000  3828.270000  3.626352e+06   \n",
       "\n",
       "       Quote asset volume  Number of trades  Taker buy base asset volume  \\\n",
       "count        2.010000e+02      2.010000e+02                 2.010000e+02   \n",
       "mean         1.488237e+09      9.099961e+05                 3.637405e+05   \n",
       "std          6.937436e+08      4.572652e+05                 2.683105e+05   \n",
       "min          4.707147e+08      2.980000e+05                 7.693798e+04   \n",
       "25%          1.067796e+09      6.254310e+05                 1.939293e+05   \n",
       "50%          1.401317e+09      8.092540e+05                 2.698341e+05   \n",
       "75%          1.736496e+09      1.050193e+06                 4.378863e+05   \n",
       "max          4.611744e+09      3.047112e+06                 1.791798e+06   \n",
       "\n",
       "       Taker buy quote asset volume  \n",
       "count                  2.010000e+02  \n",
       "mean                   7.436785e+08  \n",
       "std                    3.452241e+08  \n",
       "min                    2.332485e+08  \n",
       "25%                    5.359672e+08  \n",
       "50%                    6.916970e+08  \n",
       "75%                    8.656880e+08  \n",
       "max                    2.287434e+09  "
      ]
     },
     "execution_count": 114,
     "metadata": {},
     "output_type": "execute_result"
    }
   ],
   "source": [
    "KlinesDataFrame.describe()"
   ]
  },
  {
   "cell_type": "code",
   "execution_count": 115,
   "id": "fc77d01e",
   "metadata": {},
   "outputs": [],
   "source": [
    "import mplfinance as mpf"
   ]
  },
  {
   "cell_type": "code",
   "execution_count": 123,
   "id": "64323ea1",
   "metadata": {},
   "outputs": [
    {
     "data": {
      "image/png": "[encoded data removed]",
      "text/plain": [
       "<Figure size 800x575 with 4 Axes>"
      ]
     },
     "metadata": {},
     "output_type": "display_data"
    }
   ],
   "source": [
    "mpf.plot(KlinesDataFrame.set_index('Close time').tail(100),\n",
    "        type = 'candle', style='charles',\n",
    "        volume = True,\n",
    "        title = 'ETH/USD Chart 2022',\n",
    "        mav = (10,20))"
   ]
  },
  {
   "cell_type": "code",
   "execution_count": null,
   "id": "7d18d7a7",
   "metadata": {},
   "outputs": [],
   "source": []
  },
  {
   "cell_type": "code",
   "execution_count": null,
   "id": "1eae8d71",
   "metadata": {},
   "outputs": [],
   "source": []
  },
  {
   "cell_type": "code",
   "execution_count": null,
   "id": "08097b24",
   "metadata": {},
   "outputs": [],
   "source": []
  }
 ],
 "metadata": {
  "kernelspec": {
   "display_name": "Python 3 (ipykernel)",
   "language": "python",
   "name": "python3"
  },
  "language_info": {
   "codemirror_mode": {
    "name": "ipython",
    "version": 3
   },
   "file_extension": ".py",
   "mimetype": "text/x-python",
   "name": "python",
   "nbconvert_exporter": "python",
   "pygments_lexer": "ipython3",
   "version": "3.10.4"
  }
 },
 "nbformat": 4,
 "nbformat_minor": 5
}
